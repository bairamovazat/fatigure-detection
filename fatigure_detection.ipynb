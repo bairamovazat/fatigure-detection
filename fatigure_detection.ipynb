{
  "nbformat": 4,
  "nbformat_minor": 0,
  "metadata": {
    "accelerator": "GPU",
    "colab": {
      "name": "fatigure_detection.ipynb",
      "provenance": [],
      "collapsed_sections": []
    },
    "kernelspec": {
      "display_name": "Python 3",
      "name": "python3"
    },
    "widgets": {
      "application/vnd.jupyter.widget-state+json": {
        "fa6142427e3d4add993703a605889aeb": {
          "model_module": "@jupyter-widgets/controls",
          "model_name": "HBoxModel",
          "model_module_version": "1.5.0",
          "state": {
            "_view_name": "HBoxView",
            "_dom_classes": [],
            "_model_name": "HBoxModel",
            "_view_module": "@jupyter-widgets/controls",
            "_model_module_version": "1.5.0",
            "_view_count": null,
            "_view_module_version": "1.5.0",
            "box_style": "",
            "layout": "IPY_MODEL_23525ff1888e4db5bace6ac469e53636",
            "_model_module": "@jupyter-widgets/controls",
            "children": [
              "IPY_MODEL_52e3832b50a14c7281699e86eb33eabe",
              "IPY_MODEL_355ac4ea73f04fd2b2f9bdeddbfdd61b"
            ]
          }
        },
        "23525ff1888e4db5bace6ac469e53636": {
          "model_module": "@jupyter-widgets/base",
          "model_name": "LayoutModel",
          "model_module_version": "1.2.0",
          "state": {
            "_view_name": "LayoutView",
            "grid_template_rows": null,
            "right": null,
            "justify_content": null,
            "_view_module": "@jupyter-widgets/base",
            "overflow": null,
            "_model_module_version": "1.2.0",
            "_view_count": null,
            "flex_flow": null,
            "width": null,
            "min_width": null,
            "border": null,
            "align_items": null,
            "bottom": null,
            "_model_module": "@jupyter-widgets/base",
            "top": null,
            "grid_column": null,
            "overflow_y": null,
            "overflow_x": null,
            "grid_auto_flow": null,
            "grid_area": null,
            "grid_template_columns": null,
            "flex": null,
            "_model_name": "LayoutModel",
            "justify_items": null,
            "grid_row": null,
            "max_height": null,
            "align_content": null,
            "visibility": null,
            "align_self": null,
            "height": null,
            "min_height": null,
            "padding": null,
            "grid_auto_rows": null,
            "grid_gap": null,
            "max_width": null,
            "order": null,
            "_view_module_version": "1.2.0",
            "grid_template_areas": null,
            "object_position": null,
            "object_fit": null,
            "grid_auto_columns": null,
            "margin": null,
            "display": null,
            "left": null
          }
        },
        "52e3832b50a14c7281699e86eb33eabe": {
          "model_module": "@jupyter-widgets/controls",
          "model_name": "FloatProgressModel",
          "model_module_version": "1.5.0",
          "state": {
            "_view_name": "ProgressView",
            "style": "IPY_MODEL_24a17dfdea364646a4014a1035fa513a",
            "_dom_classes": [],
            "description": "100%",
            "_model_name": "FloatProgressModel",
            "bar_style": "success",
            "max": 3,
            "_view_module": "@jupyter-widgets/controls",
            "_model_module_version": "1.5.0",
            "value": 3,
            "_view_count": null,
            "_view_module_version": "1.5.0",
            "orientation": "horizontal",
            "min": 0,
            "description_tooltip": null,
            "_model_module": "@jupyter-widgets/controls",
            "layout": "IPY_MODEL_14d6f788494147db8747c06c8686106a"
          }
        },
        "355ac4ea73f04fd2b2f9bdeddbfdd61b": {
          "model_module": "@jupyter-widgets/controls",
          "model_name": "HTMLModel",
          "model_module_version": "1.5.0",
          "state": {
            "_view_name": "HTMLView",
            "style": "IPY_MODEL_129b8e7ef1954791ac020362711a4586",
            "_dom_classes": [],
            "description": "",
            "_model_name": "HTMLModel",
            "placeholder": "​",
            "_view_module": "@jupyter-widgets/controls",
            "_model_module_version": "1.5.0",
            "value": " 3/3 [00:13&lt;00:00,  4.60s/it]",
            "_view_count": null,
            "_view_module_version": "1.5.0",
            "description_tooltip": null,
            "_model_module": "@jupyter-widgets/controls",
            "layout": "IPY_MODEL_f98a55b380e0402db0cf3935012f97dd"
          }
        },
        "24a17dfdea364646a4014a1035fa513a": {
          "model_module": "@jupyter-widgets/controls",
          "model_name": "ProgressStyleModel",
          "model_module_version": "1.5.0",
          "state": {
            "_view_name": "StyleView",
            "_model_name": "ProgressStyleModel",
            "description_width": "initial",
            "_view_module": "@jupyter-widgets/base",
            "_model_module_version": "1.5.0",
            "_view_count": null,
            "_view_module_version": "1.2.0",
            "bar_color": null,
            "_model_module": "@jupyter-widgets/controls"
          }
        },
        "14d6f788494147db8747c06c8686106a": {
          "model_module": "@jupyter-widgets/base",
          "model_name": "LayoutModel",
          "model_module_version": "1.2.0",
          "state": {
            "_view_name": "LayoutView",
            "grid_template_rows": null,
            "right": null,
            "justify_content": null,
            "_view_module": "@jupyter-widgets/base",
            "overflow": null,
            "_model_module_version": "1.2.0",
            "_view_count": null,
            "flex_flow": null,
            "width": null,
            "min_width": null,
            "border": null,
            "align_items": null,
            "bottom": null,
            "_model_module": "@jupyter-widgets/base",
            "top": null,
            "grid_column": null,
            "overflow_y": null,
            "overflow_x": null,
            "grid_auto_flow": null,
            "grid_area": null,
            "grid_template_columns": null,
            "flex": null,
            "_model_name": "LayoutModel",
            "justify_items": null,
            "grid_row": null,
            "max_height": null,
            "align_content": null,
            "visibility": null,
            "align_self": null,
            "height": null,
            "min_height": null,
            "padding": null,
            "grid_auto_rows": null,
            "grid_gap": null,
            "max_width": null,
            "order": null,
            "_view_module_version": "1.2.0",
            "grid_template_areas": null,
            "object_position": null,
            "object_fit": null,
            "grid_auto_columns": null,
            "margin": null,
            "display": null,
            "left": null
          }
        },
        "129b8e7ef1954791ac020362711a4586": {
          "model_module": "@jupyter-widgets/controls",
          "model_name": "DescriptionStyleModel",
          "model_module_version": "1.5.0",
          "state": {
            "_view_name": "StyleView",
            "_model_name": "DescriptionStyleModel",
            "description_width": "",
            "_view_module": "@jupyter-widgets/base",
            "_model_module_version": "1.5.0",
            "_view_count": null,
            "_view_module_version": "1.2.0",
            "_model_module": "@jupyter-widgets/controls"
          }
        },
        "f98a55b380e0402db0cf3935012f97dd": {
          "model_module": "@jupyter-widgets/base",
          "model_name": "LayoutModel",
          "model_module_version": "1.2.0",
          "state": {
            "_view_name": "LayoutView",
            "grid_template_rows": null,
            "right": null,
            "justify_content": null,
            "_view_module": "@jupyter-widgets/base",
            "overflow": null,
            "_model_module_version": "1.2.0",
            "_view_count": null,
            "flex_flow": null,
            "width": null,
            "min_width": null,
            "border": null,
            "align_items": null,
            "bottom": null,
            "_model_module": "@jupyter-widgets/base",
            "top": null,
            "grid_column": null,
            "overflow_y": null,
            "overflow_x": null,
            "grid_auto_flow": null,
            "grid_area": null,
            "grid_template_columns": null,
            "flex": null,
            "_model_name": "LayoutModel",
            "justify_items": null,
            "grid_row": null,
            "max_height": null,
            "align_content": null,
            "visibility": null,
            "align_self": null,
            "height": null,
            "min_height": null,
            "padding": null,
            "grid_auto_rows": null,
            "grid_gap": null,
            "max_width": null,
            "order": null,
            "_view_module_version": "1.2.0",
            "grid_template_areas": null,
            "object_position": null,
            "object_fit": null,
            "grid_auto_columns": null,
            "margin": null,
            "display": null,
            "left": null
          }
        },
        "1ac18db1b1f14b7bbbc5b6129f5a7197": {
          "model_module": "@jupyter-widgets/controls",
          "model_name": "HBoxModel",
          "model_module_version": "1.5.0",
          "state": {
            "_view_name": "HBoxView",
            "_dom_classes": [],
            "_model_name": "HBoxModel",
            "_view_module": "@jupyter-widgets/controls",
            "_model_module_version": "1.5.0",
            "_view_count": null,
            "_view_module_version": "1.5.0",
            "box_style": "",
            "layout": "IPY_MODEL_cbbfe9cd52194ef59e6aebd2d137953b",
            "_model_module": "@jupyter-widgets/controls",
            "children": [
              "IPY_MODEL_6ebb16516e6f47039a4d94bf27a59c13",
              "IPY_MODEL_2fc5bfd0ea56493db3876063fca2bc9a"
            ]
          }
        },
        "cbbfe9cd52194ef59e6aebd2d137953b": {
          "model_module": "@jupyter-widgets/base",
          "model_name": "LayoutModel",
          "model_module_version": "1.2.0",
          "state": {
            "_view_name": "LayoutView",
            "grid_template_rows": null,
            "right": null,
            "justify_content": null,
            "_view_module": "@jupyter-widgets/base",
            "overflow": null,
            "_model_module_version": "1.2.0",
            "_view_count": null,
            "flex_flow": null,
            "width": null,
            "min_width": null,
            "border": null,
            "align_items": null,
            "bottom": null,
            "_model_module": "@jupyter-widgets/base",
            "top": null,
            "grid_column": null,
            "overflow_y": null,
            "overflow_x": null,
            "grid_auto_flow": null,
            "grid_area": null,
            "grid_template_columns": null,
            "flex": null,
            "_model_name": "LayoutModel",
            "justify_items": null,
            "grid_row": null,
            "max_height": null,
            "align_content": null,
            "visibility": null,
            "align_self": null,
            "height": null,
            "min_height": null,
            "padding": null,
            "grid_auto_rows": null,
            "grid_gap": null,
            "max_width": null,
            "order": null,
            "_view_module_version": "1.2.0",
            "grid_template_areas": null,
            "object_position": null,
            "object_fit": null,
            "grid_auto_columns": null,
            "margin": null,
            "display": null,
            "left": null
          }
        },
        "6ebb16516e6f47039a4d94bf27a59c13": {
          "model_module": "@jupyter-widgets/controls",
          "model_name": "FloatProgressModel",
          "model_module_version": "1.5.0",
          "state": {
            "_view_name": "ProgressView",
            "style": "IPY_MODEL_99509da6c2cc45d19e5a79ed10606ae8",
            "_dom_classes": [],
            "description": "100%",
            "_model_name": "FloatProgressModel",
            "bar_style": "success",
            "max": 3,
            "_view_module": "@jupyter-widgets/controls",
            "_model_module_version": "1.5.0",
            "value": 3,
            "_view_count": null,
            "_view_module_version": "1.5.0",
            "orientation": "horizontal",
            "min": 0,
            "description_tooltip": null,
            "_model_module": "@jupyter-widgets/controls",
            "layout": "IPY_MODEL_93106c5321634239a025913380320352"
          }
        },
        "2fc5bfd0ea56493db3876063fca2bc9a": {
          "model_module": "@jupyter-widgets/controls",
          "model_name": "HTMLModel",
          "model_module_version": "1.5.0",
          "state": {
            "_view_name": "HTMLView",
            "style": "IPY_MODEL_3068a589f8d8421d9ce3c25a44df56ba",
            "_dom_classes": [],
            "description": "",
            "_model_name": "HTMLModel",
            "placeholder": "​",
            "_view_module": "@jupyter-widgets/controls",
            "_model_module_version": "1.5.0",
            "value": " 3/3 [00:12&lt;00:00,  4.22s/it]",
            "_view_count": null,
            "_view_module_version": "1.5.0",
            "description_tooltip": null,
            "_model_module": "@jupyter-widgets/controls",
            "layout": "IPY_MODEL_1e24930a62a640ab98bb40ca896e502d"
          }
        },
        "99509da6c2cc45d19e5a79ed10606ae8": {
          "model_module": "@jupyter-widgets/controls",
          "model_name": "ProgressStyleModel",
          "model_module_version": "1.5.0",
          "state": {
            "_view_name": "StyleView",
            "_model_name": "ProgressStyleModel",
            "description_width": "initial",
            "_view_module": "@jupyter-widgets/base",
            "_model_module_version": "1.5.0",
            "_view_count": null,
            "_view_module_version": "1.2.0",
            "bar_color": null,
            "_model_module": "@jupyter-widgets/controls"
          }
        },
        "93106c5321634239a025913380320352": {
          "model_module": "@jupyter-widgets/base",
          "model_name": "LayoutModel",
          "model_module_version": "1.2.0",
          "state": {
            "_view_name": "LayoutView",
            "grid_template_rows": null,
            "right": null,
            "justify_content": null,
            "_view_module": "@jupyter-widgets/base",
            "overflow": null,
            "_model_module_version": "1.2.0",
            "_view_count": null,
            "flex_flow": null,
            "width": null,
            "min_width": null,
            "border": null,
            "align_items": null,
            "bottom": null,
            "_model_module": "@jupyter-widgets/base",
            "top": null,
            "grid_column": null,
            "overflow_y": null,
            "overflow_x": null,
            "grid_auto_flow": null,
            "grid_area": null,
            "grid_template_columns": null,
            "flex": null,
            "_model_name": "LayoutModel",
            "justify_items": null,
            "grid_row": null,
            "max_height": null,
            "align_content": null,
            "visibility": null,
            "align_self": null,
            "height": null,
            "min_height": null,
            "padding": null,
            "grid_auto_rows": null,
            "grid_gap": null,
            "max_width": null,
            "order": null,
            "_view_module_version": "1.2.0",
            "grid_template_areas": null,
            "object_position": null,
            "object_fit": null,
            "grid_auto_columns": null,
            "margin": null,
            "display": null,
            "left": null
          }
        },
        "3068a589f8d8421d9ce3c25a44df56ba": {
          "model_module": "@jupyter-widgets/controls",
          "model_name": "DescriptionStyleModel",
          "model_module_version": "1.5.0",
          "state": {
            "_view_name": "StyleView",
            "_model_name": "DescriptionStyleModel",
            "description_width": "",
            "_view_module": "@jupyter-widgets/base",
            "_model_module_version": "1.5.0",
            "_view_count": null,
            "_view_module_version": "1.2.0",
            "_model_module": "@jupyter-widgets/controls"
          }
        },
        "1e24930a62a640ab98bb40ca896e502d": {
          "model_module": "@jupyter-widgets/base",
          "model_name": "LayoutModel",
          "model_module_version": "1.2.0",
          "state": {
            "_view_name": "LayoutView",
            "grid_template_rows": null,
            "right": null,
            "justify_content": null,
            "_view_module": "@jupyter-widgets/base",
            "overflow": null,
            "_model_module_version": "1.2.0",
            "_view_count": null,
            "flex_flow": null,
            "width": null,
            "min_width": null,
            "border": null,
            "align_items": null,
            "bottom": null,
            "_model_module": "@jupyter-widgets/base",
            "top": null,
            "grid_column": null,
            "overflow_y": null,
            "overflow_x": null,
            "grid_auto_flow": null,
            "grid_area": null,
            "grid_template_columns": null,
            "flex": null,
            "_model_name": "LayoutModel",
            "justify_items": null,
            "grid_row": null,
            "max_height": null,
            "align_content": null,
            "visibility": null,
            "align_self": null,
            "height": null,
            "min_height": null,
            "padding": null,
            "grid_auto_rows": null,
            "grid_gap": null,
            "max_width": null,
            "order": null,
            "_view_module_version": "1.2.0",
            "grid_template_areas": null,
            "object_position": null,
            "object_fit": null,
            "grid_auto_columns": null,
            "margin": null,
            "display": null,
            "left": null
          }
        }
      }
    }
  },
  "cells": [
    {
      "cell_type": "code",
      "metadata": {
        "id": "TyLzBZ49DNVD"
      },
      "source": [
        "!python -version"
      ],
      "execution_count": null,
      "outputs": []
    },
    {
      "cell_type": "code",
      "metadata": {
        "id": "eU3ZIvK5DHj1",
        "colab": {
          "base_uri": "https://localhost:8080/"
        },
        "outputId": "dc173590-02d8-4c8f-fda1-7cab3bf26889"
      },
      "source": [
        "from google.colab import drive\n",
        "drive.mount('/content/drive')"
      ],
      "execution_count": null,
      "outputs": [
        {
          "output_type": "stream",
          "text": [
            "Mounted at /content/drive\n"
          ],
          "name": "stdout"
        }
      ]
    },
    {
      "cell_type": "code",
      "metadata": {
        "id": "hIl4ZnrsJT7i",
        "colab": {
          "base_uri": "https://localhost:8080/"
        },
        "outputId": "8a42ea1f-1a8b-4c54-c994-44debc77e2de"
      },
      "source": [
        "#Скачать новый архив\n",
        "!rm fatigue-detection.zip\n",
        "!ls -l ~/.kaggle\n",
        "!mkdir -p ~/.kaggle\n",
        "!cd \"/content/drive/My Drive/kaggle\"\n",
        "!cp \"/content/drive/My Drive/kaggle/kaggle.json\" ~/.kaggle\n",
        "!kaggle datasets download -d timmjy/fatigue-detection -p /content\n",
        "# !rm \"fatigue-detection.zip\"\n",
        "# !wget https://www.kaggle.com/timmjy/fatigue-detection/download --output-document fatigue-detection.zip"
      ],
      "execution_count": null,
      "outputs": [
        {
          "output_type": "stream",
          "text": [
            "rm: cannot remove 'fatigue-detection.zip': No such file or directory\n",
            "ls: cannot access '/root/.kaggle': No such file or directory\n",
            "Downloading fatigue-detection.zip to /content\n",
            " 98% 819M/836M [00:07<00:00, 48.6MB/s]\n",
            "100% 836M/836M [00:07<00:00, 114MB/s] \n"
          ],
          "name": "stdout"
        }
      ]
    },
    {
      "cell_type": "code",
      "metadata": {
        "id": "ppyxG131KYHy"
      },
      "source": [
        "dataset_directory = \"/content/datasets/fatigue-detection\"\n",
        "#Разархивировать\n",
        "!rm -rf \"/content/datasets/fatigue-detection\"\n",
        "!mkdir /content/datasets\n",
        "!unzip -u \"/content/fatigue-detection.zip\" -d \"/content/datasets/fatigue-detection\"\n"
      ],
      "execution_count": null,
      "outputs": []
    },
    {
      "cell_type": "code",
      "metadata": {
        "id": "CWcaz7ylj0sZ"
      },
      "source": [
        "import os\n",
        "import numpy as np\n",
        "import cv2\n",
        "import pandas as pd\n",
        "import matplotlib.pyplot as plt\n",
        "from tqdm.notebook import tqdm\n",
        "from sklearn.preprocessing import OneHotEncoder\n",
        "import dlib\n",
        "\n",
        "\n",
        "class bcolors:\n",
        "    HEADER = '\\033[95m'\n",
        "    OKBLUE = '\\033[94m'\n",
        "    OKCYAN = '\\033[96m'\n",
        "    OKGREEN = '\\033[92m'\n",
        "    WARNING = '\\033[93m'\n",
        "    FAIL = '\\033[91m'\n",
        "    ENDC = '\\033[0m'\n",
        "    BOLD = '\\033[1m'\n",
        "    UNDERLINE = '\\033[4m'\n",
        "\n",
        "face_cascade = cv2.CascadeClassifier(cv2.data.haarcascades + 'haarcascade_frontalface_default.xml')\n",
        "eyes_cascade = cv2.CascadeClassifier(cv2.data.haarcascades + 'haarcascade_eye.xml')\n",
        "\n",
        "def normalize_faces(img_path, out_resolution):\n",
        "    image = cv2.imread(img_path)\n",
        "    tagged_image = image.copy()\n",
        "    gray = cv2.cvtColor(image, cv2.COLOR_BGR2GRAY)\n",
        "    faces = face_cascade.detectMultiScale(\n",
        "        gray,\n",
        "        scaleFactor= 1.1,\n",
        "        minNeighbors= 2,\n",
        "        minSize=(10, 10)\n",
        "    )\n",
        "\n",
        "    results = []\n",
        "    faces_with_eyes = 0;\n",
        "    for (x, y, w, h) in faces:\n",
        "        eyes = eyes_cascade.detectMultiScale(gray[y:y+h, x:x+w])\n",
        "        if len(eyes) < 2:\n",
        "          continue\n",
        "        faces_with_eyes += 1\n",
        "        \n",
        "        p = int(w / 10)  # Отступ от лица - 10%\n",
        "        if y - p + 1 <= 0 or x - p + 1 <= 0:\n",
        "          p = 0\n",
        "        img_cropped = image[y - p + 1:y + h + p, x - p + 1:x + w + p]\n",
        "        img_rezised = cv2.resize(img_cropped, (out_resolution, out_resolution), interpolation=cv2.INTER_LINEAR)\n",
        "        norm_img = np.zeros((out_resolution, out_resolution))\n",
        "        norm_img = cv2.normalize(img_rezised, norm_img, 0, 255, cv2.NORM_MINMAX)\n",
        "        results.append(norm_img)\n",
        "    return (results, tagged_image)\n",
        "\n",
        "def image_preparation(img_path, new_img_path):\n",
        "  faces, tagged_photo = normalize_faces(img_path, 250)\n",
        "  for ind, face in enumerate(faces):\n",
        "    if len(faces) == 1:\n",
        "      os.makedirs(os.path.dirname(new_img_path), exist_ok=True)\n",
        "      cv2.imwrite(new_img_path, faces[0])\n",
        "      return True\n",
        "    elif len(faces) == 0:\n",
        "      print(f\"{bcolors.FAIL}Face not found \" + img_path + f\"{bcolors.ENDC}\")\n",
        "    else:\n",
        "      print(f\"Multiple face found \" + img_path)\n",
        "    return False\n"
      ],
      "execution_count": null,
      "outputs": []
    },
    {
      "cell_type": "code",
      "metadata": {
        "id": "YQKI9V-fOR60",
        "colab": {
          "base_uri": "https://localhost:8080/",
          "height": 152,
          "referenced_widgets": [
            "fa6142427e3d4add993703a605889aeb",
            "23525ff1888e4db5bace6ac469e53636",
            "52e3832b50a14c7281699e86eb33eabe",
            "355ac4ea73f04fd2b2f9bdeddbfdd61b",
            "24a17dfdea364646a4014a1035fa513a",
            "14d6f788494147db8747c06c8686106a",
            "129b8e7ef1954791ac020362711a4586",
            "f98a55b380e0402db0cf3935012f97dd",
            "1ac18db1b1f14b7bbbc5b6129f5a7197",
            "cbbfe9cd52194ef59e6aebd2d137953b",
            "6ebb16516e6f47039a4d94bf27a59c13",
            "2fc5bfd0ea56493db3876063fca2bc9a",
            "99509da6c2cc45d19e5a79ed10606ae8",
            "93106c5321634239a025913380320352",
            "3068a589f8d8421d9ce3c25a44df56ba",
            "1e24930a62a640ab98bb40ca896e502d"
          ]
        },
        "outputId": "d7a43961-2efe-4500-8b44-309d8a95e551"
      },
      "source": [
        "# def setup(base, prepare_image_base):\n",
        "#     paths = []\n",
        "#     labels = []\n",
        "#     states = ['alert', 'non_vigilant', 'tired']\n",
        "#     for label in tqdm(states):\n",
        "#         temp_base = base + f'/{label}'\n",
        "#         prepare_image_temp_base = prepare_image_base + f'/{label}'\n",
        "#         for img in tqdm(os.listdir(temp_base)):\n",
        "\n",
        "#             if image_preparation(temp_base + f'/{img}', prepare_image_temp_base + f'/{img}') :\n",
        "#               paths.append(prepare_image_temp_base + f'/{img}')\n",
        "#               labels.append(label)\n",
        "\n",
        "#     enc = OneHotEncoder(sparse = False)\n",
        "#     labels = np.reshape(labels, (-1, 1))\n",
        "#     enc.fit(labels)\n",
        "#     labels = enc.transform(labels)\n",
        "#     return np.array(paths), labels\n",
        "\n",
        "# train_paths , train_labels = setup(dataset_directory + '/output/train', dataset_directory + '/prepare_output/train')\n",
        "# test_paths , test_labels = setup(dataset_directory + '/output/test', dataset_directory + '/prepare_output/test')\n",
        "# val_paths , val_labels = setup(dataset_directory + '/output/val', dataset_directory + '/prepare_output/val')\n",
        "\n",
        "def setup(base):\n",
        "    paths = []\n",
        "    labels = []\n",
        "    states = ['alert', 'non_vigilant', 'tired']\n",
        "    for label in tqdm(states):\n",
        "        temp_base = base + f'/{label}'\n",
        "        for img in os.listdir(temp_base):\n",
        "            paths.append(temp_base + f'/{img}')\n",
        "            labels.append(label)\n",
        "            \n",
        "    enc = OneHotEncoder(sparse = False)\n",
        "    labels = np.reshape(labels, (-1, 1))\n",
        "    enc.fit(labels)\n",
        "    print(enc.categories_)\n",
        "    labels = enc.transform(labels)\n",
        "    return np.array(paths), labels\n",
        "\n",
        "train_paths , train_labels = setup(dataset_directory + '/output/train')\n",
        "val_paths , val_labels = setup(dataset_directory + '/output/val')\n"
      ],
      "execution_count": null,
      "outputs": [
        {
          "output_type": "display_data",
          "data": {
            "application/vnd.jupyter.widget-view+json": {
              "model_id": "fa6142427e3d4add993703a605889aeb",
              "version_minor": 0,
              "version_major": 2
            },
            "text/plain": [
              "HBox(children=(FloatProgress(value=0.0, max=3.0), HTML(value='')))"
            ]
          },
          "metadata": {
            "tags": []
          }
        },
        {
          "output_type": "stream",
          "text": [
            "\n",
            "[array(['alert', 'non_vigilant', 'tired'], dtype='<U12')]\n"
          ],
          "name": "stdout"
        },
        {
          "output_type": "display_data",
          "data": {
            "application/vnd.jupyter.widget-view+json": {
              "model_id": "1ac18db1b1f14b7bbbc5b6129f5a7197",
              "version_minor": 0,
              "version_major": 2
            },
            "text/plain": [
              "HBox(children=(FloatProgress(value=0.0, max=3.0), HTML(value='')))"
            ]
          },
          "metadata": {
            "tags": []
          }
        },
        {
          "output_type": "stream",
          "text": [
            "\n",
            "[array(['alert', 'non_vigilant', 'tired'], dtype='<U12')]\n"
          ],
          "name": "stdout"
        }
      ]
    },
    {
      "cell_type": "code",
      "metadata": {
        "id": "GlHQUO56hVPv"
      },
      "source": [
        "!cd \"/content/datasets/fatigue-detection/prepare_output\"\n",
        "!zip -r \"/content/datasets/fatigue-detection/prepare_output.zip\" \"/content/datasets/fatigue-detection/prepare_output\""
      ],
      "execution_count": null,
      "outputs": []
    },
    {
      "cell_type": "code",
      "metadata": {
        "id": "KhS66M2oI1wW"
      },
      "source": [
        "import keras,os\n",
        "import tensorflow as tf\n",
        "from keras.models import Sequential\n",
        "from keras.layers import Dense, Conv2D, MaxPool2D , Flatten\n",
        "from keras.utils.np_utils import to_categorical\n",
        "from keras.losses import categorical_crossentropy\n",
        "from keras.preprocessing.image import ImageDataGenerator\n",
        "from tensorflow.keras.models import load_model\n",
        "from tensorflow.keras import layers\n",
        "from tensorflow.keras.layers import Input, Add, Dense, Dropout, Activation, ZeroPadding2D, BatchNormalization, Flatten, Conv2D, AveragePooling2D, MaxPooling2D, GlobalMaxPooling2D,GlobalAveragePooling2D,Concatenate, ReLU, LeakyReLU,Reshape, Lambda\n",
        "from tensorflow.keras.optimizers import Adam,SGD\n",
        "from tensorflow.keras.preprocessing.image import ImageDataGenerator\n",
        "from tensorflow.keras.models import Sequential, load_model, Model\n",
        "from tensorflow.keras.utils import to_categorical\n",
        "from tensorflow.keras import metrics\n",
        "from skimage.transform import resize"
      ],
      "execution_count": null,
      "outputs": []
    },
    {
      "cell_type": "code",
      "metadata": {
        "id": "6-xAAsPkyib_",
        "colab": {
          "base_uri": "https://localhost:8080/"
        },
        "outputId": "b06cfa9d-99d1-4882-c569-e635c8365673"
      },
      "source": [
        "print(\"Num GPUs Available: \", len(tf.config.experimental.list_physical_devices('GPU')))"
      ],
      "execution_count": null,
      "outputs": [
        {
          "output_type": "stream",
          "text": [
            "Num GPUs Available:  1\n"
          ],
          "name": "stdout"
        }
      ]
    },
    {
      "cell_type": "code",
      "metadata": {
        "id": "VHdXN3Y1I8et"
      },
      "source": [
        "detector = dlib.get_frontal_face_detector()\n",
        "\n",
        "class fatigue(tf.keras.utils.Sequence):\n",
        "    def __init__(self, paths, labels, batch_size, shape, shuffle = True):\n",
        "        self.paths, self.labels = paths, labels\n",
        "        self.batch_size = batch_size\n",
        "        self.shape = shape\n",
        "        self.shuffle = shuffle\n",
        "        self.on_epoch_end()\n",
        "        \n",
        "    def __len__(self):\n",
        "        return int(np.ceil(len(self.paths) / float(self.batch_size)))\n",
        "    \n",
        "    def __getitem__(self, idx):\n",
        "        #print(1, len(self))\n",
        "        indexes = self.indexes[idx * self.batch_size : (idx+1) * self.batch_size]\n",
        "\n",
        "        paths = self.paths[indexes]\n",
        "        X = np.zeros((paths.shape[0], self.shape[0], self.shape[1], self.shape[2])) \n",
        "        # Generate data\n",
        "        for i, path in enumerate(paths):\n",
        "            X[i] = self.load_image(path)\n",
        "\n",
        "        y = self.labels[indexes]\n",
        "        return X,y\n",
        "    \n",
        "    def on_epoch_end(self):\n",
        "        self.indexes = np.arange(len(self.paths))\n",
        "        if self.shuffle == True:\n",
        "            np.random.shuffle(self.indexes)\n",
        "\n",
        "    def __iter__(self):\n",
        "        \"\"\"Create a generator that iterate over the Sequence.\"\"\"\n",
        "        for item in (self[i] for i in range(len(self))):\n",
        "            yield item\n",
        "            \n",
        "    def load_image(self, path):\n",
        "        image = cv2.imread(path)\n",
        "        #plt.imshow(image)\n",
        "        gray = cv2.cvtColor(image, cv2.COLOR_BGR2GRAY)\n",
        "        faces = detector(gray)\n",
        "        #print(len(faces))\n",
        "        if len(faces) > 0:\n",
        "            tl_x = faces[0].tl_corner().x\n",
        "            tl_y = faces[0].tl_corner().y\n",
        "            tl_h = faces[0].height()\n",
        "            tl_w = faces[0].width()\n",
        "            if tl_x > 0 and tl_y > 0 and tl_h > 10 and tl_w > 10:\n",
        "                image = image[tl_y : tl_y + tl_w, tl_x:tl_x + tl_h, :]\n",
        "        image_norm = image/255.0\n",
        "        im = resize(image_norm, (self.shape[0], self.shape[1], self.shape[2]), mode='reflect')\n",
        "        return im"
      ],
      "execution_count": null,
      "outputs": []
    },
    {
      "cell_type": "code",
      "metadata": {
        "id": "qJ6E8-G1Y7CT"
      },
      "source": [
        "train_datagen = fatigue(train_paths, train_labels, batch_size=32, shape=(250, 250, 3))\n",
        "val_datagen = fatigue(val_paths, val_labels, batch_size=32, shape=(250, 250, 3), shuffle=False)"
      ],
      "execution_count": null,
      "outputs": []
    },
    {
      "cell_type": "code",
      "metadata": {
        "id": "tQvrKPtkNlXt"
      },
      "source": [
        "res_net = tf.keras.applications.ResNet152V2(\n",
        "    include_top=False,\n",
        "    weights=\"imagenet\",\n",
        "    input_shape=(250, 250, 3),\n",
        ")"
      ],
      "execution_count": null,
      "outputs": []
    },
    {
      "cell_type": "code",
      "metadata": {
        "id": "fhL2PpjfYJD4"
      },
      "source": [
        ""
      ],
      "execution_count": null,
      "outputs": []
    },
    {
      "cell_type": "code",
      "metadata": {
        "id": "eUzF9SkfYqZ7"
      },
      "source": [
        "\n",
        "model = Sequential()\n",
        "\n",
        "res_net = tf.keras.applications.ResNet152V2(\n",
        "    include_top=False,\n",
        "    pooling = 'avg',\n",
        "    weights=\"imagenet\",\n",
        ")\n",
        "model.add(res_net)\n",
        "model.add(Dense(3, activation = 'softmax'))\n",
        "\n",
        "# Say not to train first layer (ResNet) model as it is already trained\n",
        "model.layers[0].trainable = False"
      ],
      "execution_count": null,
      "outputs": []
    },
    {
      "cell_type": "code",
      "metadata": {
        "id": "w1Dn1PAiYDU2",
        "colab": {
          "base_uri": "https://localhost:8080/"
        },
        "outputId": "60fe656b-28a6-4b35-fc28-7806dbdcffe6"
      },
      "source": [
        "model.summary()"
      ],
      "execution_count": null,
      "outputs": [
        {
          "output_type": "stream",
          "text": [
            "Model: \"sequential\"\n",
            "_________________________________________________________________\n",
            "Layer (type)                 Output Shape              Param #   \n",
            "=================================================================\n",
            "resnet152v2 (Functional)     (None, 2048)              58331648  \n",
            "_________________________________________________________________\n",
            "dense (Dense)                (None, 3)                 6147      \n",
            "=================================================================\n",
            "Total params: 58,337,795\n",
            "Trainable params: 6,147\n",
            "Non-trainable params: 58,331,648\n",
            "_________________________________________________________________\n"
          ],
          "name": "stdout"
        }
      ]
    },
    {
      "cell_type": "code",
      "metadata": {
        "id": "J5rjfFrwHeOc",
        "colab": {
          "base_uri": "https://localhost:8080/"
        },
        "outputId": "c4639e33-6d6c-42ee-d7e1-e1a209eb04e3"
      },
      "source": [
        "model.compile(optimizer='adam', loss='categorical_crossentropy', metrics=['acc'])\n",
        "model.fit_generator(\n",
        "    train_datagen,\n",
        "    steps_per_epoch=len(train_datagen),\n",
        "    validation_data=val_datagen,\n",
        "    #validation_steps=64,\n",
        "    #class_weight = class_weights,\n",
        "    epochs=20,\n",
        "    #class_weight=class_weights,\n",
        "    #workers=workers,\n",
        "    verbose=2)"
      ],
      "execution_count": null,
      "outputs": [
        {
          "output_type": "stream",
          "text": [
            "/usr/local/lib/python3.7/dist-packages/tensorflow/python/keras/engine/training.py:1844: UserWarning: `Model.fit_generator` is deprecated and will be removed in a future version. Please use `Model.fit`, which supports generators.\n",
            "  warnings.warn('`Model.fit_generator` is deprecated and '\n"
          ],
          "name": "stderr"
        },
        {
          "output_type": "stream",
          "text": [
            "Epoch 1/20\n",
            "98/98 - 722s - loss: 0.9923 - acc: 0.4862 - val_loss: 0.8791 - val_acc: 0.6093\n",
            "Epoch 2/20\n",
            "98/98 - 695s - loss: 0.8087 - acc: 0.6581 - val_loss: 0.7943 - val_acc: 0.6812\n",
            "Epoch 3/20\n",
            "98/98 - 689s - loss: 0.7168 - acc: 0.7231 - val_loss: 0.7373 - val_acc: 0.7224\n",
            "Epoch 4/20\n",
            "98/98 - 700s - loss: 0.6490 - acc: 0.7727 - val_loss: 0.7312 - val_acc: 0.6941\n",
            "Epoch 5/20\n",
            "98/98 - 696s - loss: 0.5953 - acc: 0.7945 - val_loss: 0.6703 - val_acc: 0.7404\n",
            "Epoch 6/20\n",
            "98/98 - 691s - loss: 0.5517 - acc: 0.8198 - val_loss: 0.6496 - val_acc: 0.7455\n",
            "Epoch 7/20\n",
            "98/98 - 692s - loss: 0.5230 - acc: 0.8307 - val_loss: 0.6305 - val_acc: 0.7404\n",
            "Epoch 8/20\n",
            "98/98 - 689s - loss: 0.4968 - acc: 0.8339 - val_loss: 0.6353 - val_acc: 0.7609\n",
            "Epoch 9/20\n",
            "98/98 - 691s - loss: 0.4662 - acc: 0.8595 - val_loss: 0.5953 - val_acc: 0.7815\n",
            "Epoch 10/20\n",
            "98/98 - 693s - loss: 0.4367 - acc: 0.8748 - val_loss: 0.5784 - val_acc: 0.7841\n",
            "Epoch 11/20\n",
            "98/98 - 686s - loss: 0.4203 - acc: 0.8793 - val_loss: 0.5754 - val_acc: 0.7892\n",
            "Epoch 12/20\n",
            "98/98 - 692s - loss: 0.3995 - acc: 0.8905 - val_loss: 0.5611 - val_acc: 0.7995\n",
            "Epoch 13/20\n",
            "98/98 - 702s - loss: 0.3838 - acc: 0.9004 - val_loss: 0.5576 - val_acc: 0.7969\n",
            "Epoch 14/20\n",
            "98/98 - 708s - loss: 0.3709 - acc: 0.8998 - val_loss: 0.5384 - val_acc: 0.7866\n",
            "Epoch 15/20\n"
          ],
          "name": "stdout"
        }
      ]
    },
    {
      "cell_type": "code",
      "metadata": {
        "id": "lQlHBFJVPbuR",
        "colab": {
          "base_uri": "https://localhost:8080/",
          "height": 238
        },
        "outputId": "ddafd82e-94ac-4197-811f-5f0c77fbb983"
      },
      "source": [
        "# plot the loss\n",
        "plt.plot(model.history['loss'], label='train loss')\n",
        "plt.legend()\n",
        "plt.show()\n",
        "plt.savefig('LossVal_loss')"
      ],
      "execution_count": null,
      "outputs": [
        {
          "output_type": "error",
          "ename": "NameError",
          "evalue": "ignored",
          "traceback": [
            "\u001b[0;31m---------------------------------------------------------------------------\u001b[0m",
            "\u001b[0;31mNameError\u001b[0m                                 Traceback (most recent call last)",
            "\u001b[0;32m<ipython-input-1-2ff8b883ad12>\u001b[0m in \u001b[0;36m<module>\u001b[0;34m()\u001b[0m\n\u001b[1;32m      1\u001b[0m \u001b[0;31m# plot the loss\u001b[0m\u001b[0;34m\u001b[0m\u001b[0;34m\u001b[0m\u001b[0;34m\u001b[0m\u001b[0m\n\u001b[0;32m----> 2\u001b[0;31m \u001b[0mplt\u001b[0m\u001b[0;34m.\u001b[0m\u001b[0mplot\u001b[0m\u001b[0;34m(\u001b[0m\u001b[0mmodel\u001b[0m\u001b[0;34m.\u001b[0m\u001b[0mhistory\u001b[0m\u001b[0;34m[\u001b[0m\u001b[0;34m'loss'\u001b[0m\u001b[0;34m]\u001b[0m\u001b[0;34m,\u001b[0m \u001b[0mlabel\u001b[0m\u001b[0;34m=\u001b[0m\u001b[0;34m'train loss'\u001b[0m\u001b[0;34m)\u001b[0m\u001b[0;34m\u001b[0m\u001b[0;34m\u001b[0m\u001b[0m\n\u001b[0m\u001b[1;32m      3\u001b[0m \u001b[0mplt\u001b[0m\u001b[0;34m.\u001b[0m\u001b[0mlegend\u001b[0m\u001b[0;34m(\u001b[0m\u001b[0;34m)\u001b[0m\u001b[0;34m\u001b[0m\u001b[0;34m\u001b[0m\u001b[0m\n\u001b[1;32m      4\u001b[0m \u001b[0mplt\u001b[0m\u001b[0;34m.\u001b[0m\u001b[0mshow\u001b[0m\u001b[0;34m(\u001b[0m\u001b[0;34m)\u001b[0m\u001b[0;34m\u001b[0m\u001b[0;34m\u001b[0m\u001b[0m\n\u001b[1;32m      5\u001b[0m \u001b[0mplt\u001b[0m\u001b[0;34m.\u001b[0m\u001b[0msavefig\u001b[0m\u001b[0;34m(\u001b[0m\u001b[0;34m'LossVal_loss'\u001b[0m\u001b[0;34m)\u001b[0m\u001b[0;34m\u001b[0m\u001b[0;34m\u001b[0m\u001b[0m\n",
            "\u001b[0;31mNameError\u001b[0m: name 'plt' is not defined"
          ]
        }
      ]
    },
    {
      "cell_type": "code",
      "metadata": {
        "id": "u8kZ--VUPc7z"
      },
      "source": [
        "# plot the accuracy\n",
        "plt.plot(model.history['precision'], label='test precision')\n",
        "plt.legend()\n",
        "plt.show()\n",
        "plt.savefig('PrecisionVal')"
      ],
      "execution_count": null,
      "outputs": []
    }
  ]
}